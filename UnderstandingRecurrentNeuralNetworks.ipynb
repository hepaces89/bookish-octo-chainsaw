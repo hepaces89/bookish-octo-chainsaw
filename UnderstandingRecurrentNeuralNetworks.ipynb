{
 "cells": [
  {
   "cell_type": "markdown",
   "source": [
    "# Understanding Recurrent Neural Networks (RNNs)\n",
    "\n",
    "Recurrent Neural Networks are an evolution of Artificial Neural Networks (ANNs) that are designed to be used on sequences of data where the prior data values are expected to have some affect on the next value in the sequence. [^1] In a sense they kind of remind me of Hidden Markov Models (HMMs)\n",
    "Please note that we should not confuse RNNs with Recursive Neural Networks (RvNNs) which are a completely different type of neural network. [^2]\n",
    "\n",
    "## Bibliography\n",
    "\n",
    "[^1]: [Recurrent Neural Networks - Wikipedia](https://en.wikipedia.org/wiki/Recurrent_neural_network)\n",
    "\n",
    "[^2]: [Recursive Neural Networks - Wikipedia](https://en.wikipedia.org/wiki/Recursive_neural_network)\n",
    "\n"
   ],
   "metadata": {}
  },
  {
   "cell_type": "code",
   "execution_count": null,
   "source": [],
   "outputs": [],
   "metadata": {}
  }
 ],
 "metadata": {
  "orig_nbformat": 4,
  "language_info": {
   "name": "python"
  }
 },
 "nbformat": 4,
 "nbformat_minor": 2
}