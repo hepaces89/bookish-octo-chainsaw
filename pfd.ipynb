{
 "cells": [
  {
   "cell_type": "markdown",
   "source": [
    "# PFD stuff\n",
    "\n",
    "Pulling in the stuff Nolan sent me.\n"
   ],
   "metadata": {}
  },
  {
   "cell_type": "code",
   "execution_count": 1,
   "source": [
    "# imports\n",
    "import tensorflow as tf\n",
    "\n",
    "import numpy as np\n",
    "import matplotlib.pyplot as plt\n",
    "\n",
    "print(tf.__version__)"
   ],
   "outputs": [
    {
     "output_type": "stream",
     "name": "stdout",
     "text": [
      "2.5.0\n"
     ]
    }
   ],
   "metadata": {}
  },
  {
   "cell_type": "markdown",
   "source": [
    "CSV import, going to pull in the csv using: https://www.tensorflow.org/tutorials/load_data/csv#from_a_single_file"
   ],
   "metadata": {}
  },
  {
   "cell_type": "code",
   "execution_count": 2,
   "source": [
    "# pull in csv data with batch size of 5\n",
    "sample_data_ds = tf.data.experimental.make_csv_dataset('./FlatFileDemo.csv', num_rows_for_inference=500, num_epochs=1, batch_size=5)\n",
    "\n",
    "print(list(sample_data_ds.take(1).as_numpy_iterator()))\n",
    "\n",
    "# for entry in sample_data_ds.take(1):\n",
    "#     print(entry)\n",
    "\n"
   ],
   "outputs": [
    {
     "output_type": "stream",
     "name": "stdout",
     "text": [
      "[OrderedDict([('ID', array([5789, 5355, 8282, 6553, 5200], dtype=int32)), ('IPR_AP', array([b'IPR013078-842', b'IPR013078-783', b'IPR033182-104',\n",
      "       b'IPR024830-143', b'IPR001571-462'], dtype=object)), ('IPR', array([b'IPR013078', b'IPR013078', b'IPR033182', b'IPR024830',\n",
      "       b'IPR001571'], dtype=object)), ('UID_NP', array([b'H0Y483-18', b'P57075-421', b'Q6UXV4-101', b'Q9Y692-139',\n",
      "       b'P97751-457'], dtype=object)), ('UID', array([b'H0Y483', b'P57075', b'Q6UXV4', b'Q9Y692', b'P97751'],\n",
      "      dtype=object)), ('NP', array([ 18, 421, 101, 139, 457], dtype=int32)), ('AP', array([842, 783, 104, 143, 462], dtype=int32)), ('Resi', array([b'K', b'T', b'Y', b'K', b'S'], dtype=object)), ('ptm_type', array([b'Ubiquitination', b'Phosphorylation', b'Phosphorylation',\n",
      "       b'Ubiquitination', b'Phosphorylation'], dtype=object)), ('PTM_ID', array([b'H0Y483-18-K-Ubiquitination', b'P57075-421-T-Phosphorylation',\n",
      "       b'Q6UXV4-101-Y-Phosphorylation', b'Q9Y692-139-K-Ubiquitination',\n",
      "       b'P97751-457-S-Phosphorylation'], dtype=object)), ('Known', array([0, 0, 0, 0, 0], dtype=int32)), ('Organism', array([b\"{'Homo sapiens (Human)'}\", b\"{'Homo sapiens (Human)'}\",\n",
      "       b\"{'Homo sapiens (Human)'}\", b\"{'Homo sapiens (Human)'}\",\n",
      "       b\"{'Mus musculus (Mouse)'}\"], dtype=object)), ('PMIDs', array([b'', b'', b'', b'', b''], dtype=object)), ('KFSC', array([0, 0, 0, 0, 0], dtype=int32)), ('KFSC_PTMID', array([0, 0, 0, 0, 0], dtype=int32)), ('UID_KFSC', array([0, 0, 0, 0, 0], dtype=int32)), ('UID_OBSrc', array([1, 1, 1, 1, 2], dtype=int32)), ('IPR_OBSrc', array([50,  8,  1,  2,  4], dtype=int32)), ('OBSrc', array([50,  8,  1,  2,  4], dtype=int32)), ('NPTM_2', array([ 0, 22,  0,  0,  0], dtype=int32)), ('Cc_2', array([ 9, 27,  1,  2,  2], dtype=int32)), ('MRc', array([9, 5, 1, 2, 2], dtype=int32)), ('NMrc_7', array([ 0, 38,  0,  4,  7], dtype=int32)), ('PF_OIDc', array([9, 9, 2, 2, 3], dtype=int32)), ('Cc_7', array([ 9, 47,  1,  6,  9], dtype=int32)), ('NPTM_7', array([ 0, 42,  0,  4,  7], dtype=int32)), ('Dis', array([0.16205555, 0.3793327 , 0.1508    , 0.208     , 0.73025   ],\n",
      "      dtype=float32)), ('PRC_AP', array([0.7407407, 0.8269231, 1.       , 1.       , 1.       ],\n",
      "      dtype=float32)), ('PF_MEM', array([55, 55,  5,  3,  6], dtype=int32)), ('Nc_2', array([0, 4, 0, 0, 0], dtype=int32)), ('AP_MEM', array([27, 52,  5,  3,  6], dtype=int32)), ('Nc_7', array([0, 9, 0, 2, 2], dtype=int32)), ('AP_OIDc', array([7, 9, 2, 2, 3], dtype=int32)), ('KNc_2', array([0, 0, 0, 0, 0], dtype=int32)), ('PTMc', array([9, 5, 1, 2, 2], dtype=int32)), ('per_PRC', array([b'Ubiquitination:0.740740740740741;',\n",
      "       b'Phosphorylation:0.769230769230769;Ubiquitination:0.0576923076923077;',\n",
      "       b'Phosphorylation:1;', b'Ubiquitination:1;', b'Phosphorylation:1;'],\n",
      "      dtype=object)), ('NMrc_2', array([ 0, 19,  0,  0,  0], dtype=int32)), ('KNc_7', array([0, 1, 0, 0, 0], dtype=int32))])]\n"
     ]
    }
   ],
   "metadata": {}
  }
 ],
 "metadata": {
  "orig_nbformat": 4,
  "language_info": {
   "name": "python",
   "version": "3.6.9",
   "mimetype": "text/x-python",
   "codemirror_mode": {
    "name": "ipython",
    "version": 3
   },
   "pygments_lexer": "ipython3",
   "nbconvert_exporter": "python",
   "file_extension": ".py"
  },
  "kernelspec": {
   "name": "python3",
   "display_name": "Python 3.6.9 64-bit ('tensor-env': venv)"
  },
  "interpreter": {
   "hash": "fce8f47ca1d4ed8d1e3774617e0d70568bbab428daebe9507895c0618f64b636"
  }
 },
 "nbformat": 4,
 "nbformat_minor": 2
}