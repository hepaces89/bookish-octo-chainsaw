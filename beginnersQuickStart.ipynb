{
 "cells": [
  {
   "cell_type": "code",
   "execution_count": 5,
   "id": "fec182c9-b899-42fc-b9d9-6b9a0ed238bc",
   "metadata": {},
   "outputs": [
    {
     "name": "stdout",
     "output_type": "stream",
     "text": [
      "Epoch 1/5\n",
      "1875/1875 [==============================] - 2s 925us/step - loss: 0.2904 - accuracy: 0.9151\n",
      "Epoch 2/5\n",
      "1875/1875 [==============================] - 2s 917us/step - loss: 0.1413 - accuracy: 0.9578\n",
      "Epoch 3/5\n",
      "1875/1875 [==============================] - 2s 911us/step - loss: 0.1074 - accuracy: 0.9670\n",
      "Epoch 4/5\n",
      "1875/1875 [==============================] - 2s 1ms/step - loss: 0.0876 - accuracy: 0.9725\n",
      "Epoch 5/5\n",
      "1875/1875 [==============================] - 2s 1ms/step - loss: 0.0760 - accuracy: 0.9765\n",
      "313/313 - 0s - loss: 0.0730 - accuracy: 0.9784\n"
     ]
    },
    {
     "data": {
      "text/plain": [
       "[0.07300067692995071, 0.9783999919891357]"
      ]
     },
     "execution_count": 5,
     "metadata": {},
     "output_type": "execute_result"
    }
   ],
   "source": [
    "import tensorflow as tf\n",
    "\n",
    "mnist = tf.keras.datasets.mnist\n",
    "\n",
    "(x_train, y_train), (x_test, y_test) = mnist.load_data()\n",
    "x_train, x_test = x_train/255.0, x_test/255.0\n",
    "\n",
    "model = tf.keras.models.Sequential([\n",
    "    tf.keras.layers.Flatten(input_shape=(28, 28)),\n",
    "    tf.keras.layers.Dense(128, activation='relu'),\n",
    "    tf.keras.layers.Dropout(0.2),\n",
    "    tf.keras.layers.Dense(10)\n",
    "])\n",
    "\n",
    "predictions = model(x_train[:1]).numpy()\n",
    "tf.nn.softmax(predictions).numpy()\n",
    "\n",
    "loss_fn = tf.keras.losses.SparseCategoricalCrossentropy(from_logits=True)\n",
    "loss_fn(y_train[:1], predictions).numpy()\n",
    "\n",
    "model.compile(optimizer='adam',\n",
    "              loss=loss_fn,\n",
    "              metrics=['accuracy'])\n",
    "model.fit(x_train, y_train, epochs=5)\n",
    "\n",
    "model.evaluate(x_test,  y_test, verbose=2)\n"
   ]
  },
  {
   "cell_type": "code",
   "execution_count": 7,
   "id": "830afd57-79e2-47d6-ab77-46268810b631",
   "metadata": {},
   "outputs": [
    {
     "data": {
      "text/plain": [
       "<tf.Tensor: shape=(5, 10), dtype=float32, numpy=\n",
       "array([[5.9950501e-08, 2.2787916e-08, 7.0062920e-06, 2.5738205e-04,\n",
       "        3.5184869e-11, 1.8443766e-08, 7.1823372e-12, 9.9972433e-01,\n",
       "        4.3758388e-07, 1.0750170e-05],\n",
       "       [3.0477196e-09, 6.1445539e-06, 9.9998784e-01, 5.8272472e-06,\n",
       "        6.4950236e-14, 5.1224539e-08, 7.9995726e-09, 6.4861999e-13,\n",
       "        7.8735567e-08, 3.9577301e-15],\n",
       "       [2.6938210e-07, 9.9927098e-01, 1.3354735e-04, 7.4961035e-06,\n",
       "        1.5427811e-05, 2.3999202e-05, 9.3558347e-06, 3.5796428e-04,\n",
       "        1.8055001e-04, 5.6367185e-07],\n",
       "       [9.9984074e-01, 5.2238674e-10, 6.7185174e-05, 1.6251882e-07,\n",
       "        7.7400114e-07, 9.4528218e-07, 8.9043933e-05, 6.1854607e-08,\n",
       "        3.2949004e-08, 1.0046014e-06],\n",
       "       [1.8867155e-05, 1.8952326e-09, 9.6275406e-05, 7.2220570e-07,\n",
       "        9.8918986e-01, 1.3800333e-07, 1.4942716e-06, 4.6484807e-04,\n",
       "        1.8852344e-06, 1.0225931e-02]], dtype=float32)>"
      ]
     },
     "execution_count": 7,
     "metadata": {},
     "output_type": "execute_result"
    }
   ],
   "source": [
    "probability_model = tf.keras.Sequential([\n",
    "  model,\n",
    "  tf.keras.layers.Softmax()\n",
    "])\n",
    "probability_model(x_test[:5])"
   ]
  },
  {
   "cell_type": "code",
   "execution_count": null,
   "id": "9a43b087-de89-4a9a-8f9d-81b0e34410c3",
   "metadata": {},
   "outputs": [],
   "source": []
  }
 ],
 "metadata": {
  "kernelspec": {
   "display_name": "Python 3",
   "language": "python",
   "name": "python3"
  },
  "language_info": {
   "codemirror_mode": {
    "name": "ipython",
    "version": 3
   },
   "file_extension": ".py",
   "mimetype": "text/x-python",
   "name": "python",
   "nbconvert_exporter": "python",
   "pygments_lexer": "ipython3",
   "version": "3.6.9"
  }
 },
 "nbformat": 4,
 "nbformat_minor": 5
}
